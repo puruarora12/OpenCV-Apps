{
 "cells": [
  {
   "cell_type": "code",
   "execution_count": 100,
   "metadata": {},
   "outputs": [],
   "source": [
    "import numpy as np\n",
    "import cv2"
   ]
  },
  {
   "cell_type": "code",
   "execution_count": 101,
   "metadata": {},
   "outputs": [],
   "source": [
    "image = cv2.imread('mixshapes.jpg')\n",
    "gray=cv2.cvtColor(image,cv2.COLOR_BGR2GRAY)\n",
    "blurred = cv2.GaussianBlur(gray, (5, 5), 0)\n",
    "ret, thresh = cv2.threshold(blurred, 127, 255, 0)\n",
    "cv2.imshow('shapes',thresh)\n",
    "cv2.waitKey(0)\n",
    "cv2.destroyAllWindows()"
   ]
  },
  {
   "cell_type": "code",
   "execution_count": 102,
   "metadata": {},
   "outputs": [],
   "source": [
    "_,contours, hierarchy = cv2.findContours(thresh.copy(),cv2.RETR_LIST,cv2.CHAIN_APPROX_NONE)\n",
    "contours = sorted(contours, key=cv2.contourArea, reverse=True)"
   ]
  },
  {
   "cell_type": "code",
   "execution_count": 103,
   "metadata": {},
   "outputs": [
    {
     "name": "stdout",
     "output_type": "stream",
     "text": [
      "9\n",
      "[1046955.0, 20443.0, 19943.0, 15828.0, 13634.5, 12764.0, 12193.5, 10196.0, 4292.0]\n"
     ]
    }
   ],
   "source": [
    "print(len(contours))\n",
    "def get_contour_areas(contours):\n",
    "    # returns the areas of all contours as list\n",
    "    all_areas = []\n",
    "    for cnt in contours:\n",
    "        area = cv2.contourArea(cnt)\n",
    "        all_areas.append(area)\n",
    "    return all_areas\n",
    "print (get_contour_areas(contours))"
   ]
  },
  {
   "cell_type": "code",
   "execution_count": 105,
   "metadata": {},
   "outputs": [
    {
     "name": "stdout",
     "output_type": "stream",
     "text": [
      "4\n",
      "4\n",
      "4\n",
      "4\n",
      "4\n",
      "3\n",
      "16\n",
      "3\n"
     ]
    }
   ],
   "source": [
    "for cnt in contours[1:]:\n",
    "    epsilon = 0.01*cv2.arcLength(cnt,True)\n",
    "    approx = cv2.approxPolyDP(cnt,epsilon,True)\n",
    "    print(len(approx))\n",
    "    if len(approx)==3:\n",
    "        shape_name = 'triangle'\n",
    "        cv2.drawContours(image,[cnt],0,(0,255,52),-1)\n",
    "    if len(approx)==5:\n",
    "        shape_name = 'Pentagon'\n",
    "        cv2.drawContours(image,[cnt],0,(100,255,52),-1)\n",
    "    elif len(approx)==4:\n",
    "        (x, y, w, h) = cv2.boundingRect(approx)\n",
    "        ar = w / h\n",
    "        if ar >= 0.99 and ar <= 1.01:\n",
    "            shape_name = 'square'\n",
    "            cv2.drawContours(image,[cnt],0,(0,90,255),-1)\n",
    "        else:\n",
    "            shape_name = 'rectangle'\n",
    "            cv2.drawContours(image,[cnt],0,(43,0,255),-1)\n",
    "    elif len(approx)>10:  \n",
    "        shape_name = 'circle'\n",
    "        cv2.drawContours(image,[cnt],0,(200,80,0),-1)\n",
    "    M = cv2.moments(cnt)\n",
    "    cx = int(M['m10'] / M['m00'])\n",
    "    cy = int(M['m01'] / M['m00'])\n",
    "    cv2.putText(image, shape_name, (cx-50, cy), cv2.FONT_HERSHEY_SIMPLEX, 1, (0, 0, 0), 1)\n",
    "cv2.imshow('shapes',image)\n",
    "cv2.waitKey(0)\n",
    "cv2.destroyAllWindows()"
   ]
  },
  {
   "cell_type": "code",
   "execution_count": null,
   "metadata": {},
   "outputs": [],
   "source": []
  }
 ],
 "metadata": {
  "kernelspec": {
   "display_name": "Python 3",
   "language": "python",
   "name": "python3"
  },
  "language_info": {
   "codemirror_mode": {
    "name": "ipython",
    "version": 3
   },
   "file_extension": ".py",
   "mimetype": "text/x-python",
   "name": "python",
   "nbconvert_exporter": "python",
   "pygments_lexer": "ipython3",
   "version": "3.5.2"
  }
 },
 "nbformat": 4,
 "nbformat_minor": 2
}
